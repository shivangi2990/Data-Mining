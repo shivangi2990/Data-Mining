{
 "cells": [
  {
   "cell_type": "code",
   "execution_count": 35,
   "id": "00a8972c",
   "metadata": {},
   "outputs": [],
   "source": [
    "import pandas as pd\n",
    "from sklearn.metrics.pairwise import euclidean_distances\n",
    "import networkx as nx\n",
    "from sklearn.neighbors import NearestNeighbors\n",
    "import numpy as np\n",
    "import matplotlib.pyplot as plt"
   ]
  },
  {
   "cell_type": "code",
   "execution_count": 3,
   "id": "70361c5e",
   "metadata": {},
   "outputs": [
    {
     "name": "stdout",
     "output_type": "stream",
     "text": [
      "Collecting ucimlrepo\n",
      "  Downloading ucimlrepo-0.0.3-py3-none-any.whl (7.0 kB)\n",
      "Installing collected packages: ucimlrepo\n",
      "Successfully installed ucimlrepo-0.0.3\n"
     ]
    },
    {
     "name": "stderr",
     "output_type": "stream",
     "text": [
      "\n",
      "[notice] A new release of pip is available: 23.1.2 -> 23.3.1\n",
      "[notice] To update, run: python.exe -m pip install --upgrade pip\n"
     ]
    }
   ],
   "source": [
    "!pip install ucimlrepo"
   ]
  },
  {
   "cell_type": "code",
   "execution_count": 4,
   "id": "23d71371",
   "metadata": {},
   "outputs": [
    {
     "name": "stdout",
     "output_type": "stream",
     "text": [
      "{'uci_id': 60, 'name': 'Liver Disorders', 'repository_url': 'https://archive.ics.uci.edu/dataset/60/liver+disorders', 'data_url': 'https://archive.ics.uci.edu/static/public/60/data.csv', 'abstract': 'BUPA Medical Research Ltd. database donated by Richard S. Forsyth', 'area': 'Life Science', 'tasks': ['Regression'], 'characteristics': ['Multivariate'], 'num_instances': 345, 'num_features': 5, 'feature_types': ['Categorical', 'Integer', 'Real'], 'demographics': [], 'target_col': ['drinks'], 'index_col': None, 'has_missing_values': 'no', 'missing_values_symbol': None, 'year_of_dataset_creation': 2016, 'last_updated': 'Fri Sep 15 2023', 'dataset_doi': '10.24432/C54G67', 'creators': [], 'intro_paper': None, 'additional_info': {'summary': 'The first 5 variables are all blood tests which are thought to be sensitive to liver disorders that might arise from excessive alcohol consumption. Each line in the dataset constitutes the record of a single male individual.\\n\\nImportant note: The 7th field (selector) has been widely misinterpreted in the past as a dependent variable representing presence or absence of a liver disorder. This is incorrect [1]. The 7th field was created by BUPA researchers as a train/test selector. It is not suitable as a dependent variable for classification. The dataset does not contain any variable representing presence or absence of a liver disorder. Researchers who wish to use this dataset as a classification benchmark should follow the method used in experiments by the donor (Forsyth & Rada, 1986, Machine learning: applications in expert systems and information retrieval) and others (e.g. Turney, 1995, Cost-sensitive classification: Empirical evaluation of a hybrid genetic decision tree induction algorithm), who used the 6th field (drinks), after dichotomising, as a dependent variable for classification. Because of widespread misinterpretation in the past, researchers should take care to state their method clearly.\\n', 'purpose': None, 'funded_by': None, 'instances_represent': None, 'recommended_data_splits': None, 'sensitive_data': None, 'preprocessing_description': None, 'variable_info': '1. mcv mean corpuscular volume\\n2. alkphos alkaline phosphotase\\n3. sgpt alanine aminotransferase\\n4. sgot aspartate aminotransferase\\n5. gammagt gamma-glutamyl transpeptidase\\n6. drinks number of half-pint equivalents of alcoholic beverages drunk per day\\n7. selector field created by the BUPA researchers to split the data into train/test sets', 'citation': None}}\n",
      "       name     role         type demographic  \\\n",
      "0       mcv  Feature   Continuous        None   \n",
      "1   alkphos  Feature   Continuous        None   \n",
      "2      sgpt  Feature   Continuous        None   \n",
      "3      sgot  Feature   Continuous        None   \n",
      "4   gammagt  Feature   Continuous        None   \n",
      "5    drinks   Target   Continuous        None   \n",
      "6  selector    Other  Categorical        None   \n",
      "\n",
      "                                         description units missing_values  \n",
      "0                            mean corpuscular volume  None             no  \n",
      "1                               alkaline phosphotase  None             no  \n",
      "2                           alanine aminotransferase  None             no  \n",
      "3                         aspartate aminotransferase  None             no  \n",
      "4                      gamma-glutamyl transpeptidase  None             no  \n",
      "5  number of half-pint equivalents of alcoholic b...  None             no  \n",
      "6  field created by the BUPA researchers to split...  None             no  \n"
     ]
    }
   ],
   "source": [
    "from ucimlrepo import fetch_ucirepo \n",
    "  \n",
    "# fetch dataset \n",
    "liver_disorders = fetch_ucirepo(id=60) \n",
    "  \n",
    "# data (as pandas dataframes) \n",
    "X = liver_disorders.data.features \n",
    "y = liver_disorders.data.targets \n",
    "  \n",
    "# metadata \n",
    "print(liver_disorders.metadata) \n",
    "  \n",
    "# variable information \n",
    "print(liver_disorders.variables) \n"
   ]
  },
  {
   "cell_type": "code",
   "execution_count": 6,
   "id": "43d74578",
   "metadata": {},
   "outputs": [],
   "source": [
    "df = liver_disorders"
   ]
  },
  {
   "cell_type": "code",
   "execution_count": 8,
   "id": "c4f61619",
   "metadata": {},
   "outputs": [
    {
     "data": {
      "text/plain": [
       "ucimlrepo.dotdict.dotdict"
      ]
     },
     "execution_count": 8,
     "metadata": {},
     "output_type": "execute_result"
    }
   ],
   "source": [
    "type(df)"
   ]
  },
  {
   "cell_type": "code",
   "execution_count": 10,
   "id": "87991371",
   "metadata": {},
   "outputs": [],
   "source": [
    "data_dict = dict(liver_disorders)  # Convert dotdict to a regular dictionary\n",
    "df = pd.DataFrame([data_dict]) "
   ]
  },
  {
   "cell_type": "code",
   "execution_count": 12,
   "id": "3ea517c8",
   "metadata": {},
   "outputs": [
    {
     "data": {
      "text/plain": [
       "{'data': {'ids': None,\n",
       "  'features':      mcv  alkphos  sgpt  sgot  gammagt\n",
       "  0     85       92    45    27       31\n",
       "  1     85       64    59    32       23\n",
       "  2     86       54    33    16       54\n",
       "  3     91       78    34    24       36\n",
       "  4     87       70    12    28       10\n",
       "  ..   ...      ...   ...   ...      ...\n",
       "  340   99       75    26    24       41\n",
       "  341   96       69    53    43      203\n",
       "  342   98       77    55    35       89\n",
       "  343   91       68    27    26       14\n",
       "  344   98       99    57    45       65\n",
       "  \n",
       "  [345 rows x 5 columns],\n",
       "  'targets':      drinks\n",
       "  0       0.0\n",
       "  1       0.0\n",
       "  2       0.0\n",
       "  3       0.0\n",
       "  4       0.0\n",
       "  ..      ...\n",
       "  340    12.0\n",
       "  341    12.0\n",
       "  342    15.0\n",
       "  343    16.0\n",
       "  344    20.0\n",
       "  \n",
       "  [345 rows x 1 columns],\n",
       "  'original':      mcv  alkphos  sgpt  sgot  gammagt  drinks  selector\n",
       "  0     85       92    45    27       31     0.0         1\n",
       "  1     85       64    59    32       23     0.0         2\n",
       "  2     86       54    33    16       54     0.0         2\n",
       "  3     91       78    34    24       36     0.0         2\n",
       "  4     87       70    12    28       10     0.0         2\n",
       "  ..   ...      ...   ...   ...      ...     ...       ...\n",
       "  340   99       75    26    24       41    12.0         1\n",
       "  341   96       69    53    43      203    12.0         2\n",
       "  342   98       77    55    35       89    15.0         1\n",
       "  343   91       68    27    26       14    16.0         1\n",
       "  344   98       99    57    45       65    20.0         1\n",
       "  \n",
       "  [345 rows x 7 columns],\n",
       "  'headers': Index(['mcv', 'alkphos', 'sgpt', 'sgot', 'gammagt', 'drinks', 'selector'], dtype='object')},\n",
       " 'metadata': {'uci_id': 60,\n",
       "  'name': 'Liver Disorders',\n",
       "  'repository_url': 'https://archive.ics.uci.edu/dataset/60/liver+disorders',\n",
       "  'data_url': 'https://archive.ics.uci.edu/static/public/60/data.csv',\n",
       "  'abstract': 'BUPA Medical Research Ltd. database donated by Richard S. Forsyth',\n",
       "  'area': 'Life Science',\n",
       "  'tasks': ['Regression'],\n",
       "  'characteristics': ['Multivariate'],\n",
       "  'num_instances': 345,\n",
       "  'num_features': 5,\n",
       "  'feature_types': ['Categorical', 'Integer', 'Real'],\n",
       "  'demographics': [],\n",
       "  'target_col': ['drinks'],\n",
       "  'index_col': None,\n",
       "  'has_missing_values': 'no',\n",
       "  'missing_values_symbol': None,\n",
       "  'year_of_dataset_creation': 2016,\n",
       "  'last_updated': 'Fri Sep 15 2023',\n",
       "  'dataset_doi': '10.24432/C54G67',\n",
       "  'creators': [],\n",
       "  'intro_paper': None,\n",
       "  'additional_info': {'summary': 'The first 5 variables are all blood tests which are thought to be sensitive to liver disorders that might arise from excessive alcohol consumption. Each line in the dataset constitutes the record of a single male individual.\\n\\nImportant note: The 7th field (selector) has been widely misinterpreted in the past as a dependent variable representing presence or absence of a liver disorder. This is incorrect [1]. The 7th field was created by BUPA researchers as a train/test selector. It is not suitable as a dependent variable for classification. The dataset does not contain any variable representing presence or absence of a liver disorder. Researchers who wish to use this dataset as a classification benchmark should follow the method used in experiments by the donor (Forsyth & Rada, 1986, Machine learning: applications in expert systems and information retrieval) and others (e.g. Turney, 1995, Cost-sensitive classification: Empirical evaluation of a hybrid genetic decision tree induction algorithm), who used the 6th field (drinks), after dichotomising, as a dependent variable for classification. Because of widespread misinterpretation in the past, researchers should take care to state their method clearly.\\n',\n",
       "   'purpose': None,\n",
       "   'funded_by': None,\n",
       "   'instances_represent': None,\n",
       "   'recommended_data_splits': None,\n",
       "   'sensitive_data': None,\n",
       "   'preprocessing_description': None,\n",
       "   'variable_info': '1. mcv mean corpuscular volume\\n2. alkphos alkaline phosphotase\\n3. sgpt alanine aminotransferase\\n4. sgot aspartate aminotransferase\\n5. gammagt gamma-glutamyl transpeptidase\\n6. drinks number of half-pint equivalents of alcoholic beverages drunk per day\\n7. selector field created by the BUPA researchers to split the data into train/test sets',\n",
       "   'citation': None}},\n",
       " 'variables':        name     role         type demographic  \\\n",
       " 0       mcv  Feature   Continuous        None   \n",
       " 1   alkphos  Feature   Continuous        None   \n",
       " 2      sgpt  Feature   Continuous        None   \n",
       " 3      sgot  Feature   Continuous        None   \n",
       " 4   gammagt  Feature   Continuous        None   \n",
       " 5    drinks   Target   Continuous        None   \n",
       " 6  selector    Other  Categorical        None   \n",
       " \n",
       "                                          description units missing_values  \n",
       " 0                            mean corpuscular volume  None             no  \n",
       " 1                               alkaline phosphotase  None             no  \n",
       " 2                           alanine aminotransferase  None             no  \n",
       " 3                         aspartate aminotransferase  None             no  \n",
       " 4                      gamma-glutamyl transpeptidase  None             no  \n",
       " 5  number of half-pint equivalents of alcoholic b...  None             no  \n",
       " 6  field created by the BUPA researchers to split...  None             no  }"
      ]
     },
     "execution_count": 12,
     "metadata": {},
     "output_type": "execute_result"
    }
   ],
   "source": [
    "data_dict"
   ]
  },
  {
   "cell_type": "code",
   "execution_count": 15,
   "id": "4e4fd0bc",
   "metadata": {},
   "outputs": [
    {
     "data": {
      "text/html": [
       "<div>\n",
       "<style scoped>\n",
       "    .dataframe tbody tr th:only-of-type {\n",
       "        vertical-align: middle;\n",
       "    }\n",
       "\n",
       "    .dataframe tbody tr th {\n",
       "        vertical-align: top;\n",
       "    }\n",
       "\n",
       "    .dataframe thead th {\n",
       "        text-align: right;\n",
       "    }\n",
       "</style>\n",
       "<table border=\"1\" class=\"dataframe\">\n",
       "  <thead>\n",
       "    <tr style=\"text-align: right;\">\n",
       "      <th></th>\n",
       "      <th>data</th>\n",
       "      <th>metadata</th>\n",
       "      <th>variables</th>\n",
       "    </tr>\n",
       "  </thead>\n",
       "  <tbody>\n",
       "    <tr>\n",
       "      <th>0</th>\n",
       "      <td>{'ids': None, 'features':      mcv  alkphos  s...</td>\n",
       "      <td>{'uci_id': 60, 'name': 'Liver Disorders', 'rep...</td>\n",
       "      <td>name     role         type demographic ...</td>\n",
       "    </tr>\n",
       "  </tbody>\n",
       "</table>\n",
       "</div>"
      ],
      "text/plain": [
       "                                                data  \\\n",
       "0  {'ids': None, 'features':      mcv  alkphos  s...   \n",
       "\n",
       "                                            metadata  \\\n",
       "0  {'uci_id': 60, 'name': 'Liver Disorders', 'rep...   \n",
       "\n",
       "                                           variables  \n",
       "0         name     role         type demographic ...  "
      ]
     },
     "execution_count": 15,
     "metadata": {},
     "output_type": "execute_result"
    }
   ],
   "source": [
    "all_rows = df.iloc[:]\n",
    "all_rows"
   ]
  },
  {
   "cell_type": "code",
   "execution_count": 16,
   "id": "0f49cfa8",
   "metadata": {},
   "outputs": [
    {
     "name": "stdout",
     "output_type": "stream",
     "text": [
      "                                                data  \\\n",
      "0  {'ids': None, 'features':      mcv  alkphos  s...   \n",
      "\n",
      "                                            metadata  \\\n",
      "0  {'uci_id': 60, 'name': 'Liver Disorders', 'rep...   \n",
      "\n",
      "                                           variables  \n",
      "0         name     role         type demographic ...  \n"
     ]
    }
   ],
   "source": [
    "print(df)\n"
   ]
  },
  {
   "cell_type": "code",
   "execution_count": 18,
   "id": "53c4f9b3",
   "metadata": {},
   "outputs": [],
   "source": [
    "features_data = liver_disorders['data']['features']\n",
    "df = pd.DataFrame(features_data)"
   ]
  },
  {
   "cell_type": "code",
   "execution_count": 19,
   "id": "5cc874fd",
   "metadata": {},
   "outputs": [
    {
     "data": {
      "text/html": [
       "<div>\n",
       "<style scoped>\n",
       "    .dataframe tbody tr th:only-of-type {\n",
       "        vertical-align: middle;\n",
       "    }\n",
       "\n",
       "    .dataframe tbody tr th {\n",
       "        vertical-align: top;\n",
       "    }\n",
       "\n",
       "    .dataframe thead th {\n",
       "        text-align: right;\n",
       "    }\n",
       "</style>\n",
       "<table border=\"1\" class=\"dataframe\">\n",
       "  <thead>\n",
       "    <tr style=\"text-align: right;\">\n",
       "      <th></th>\n",
       "      <th>mcv</th>\n",
       "      <th>alkphos</th>\n",
       "      <th>sgpt</th>\n",
       "      <th>sgot</th>\n",
       "      <th>gammagt</th>\n",
       "    </tr>\n",
       "  </thead>\n",
       "  <tbody>\n",
       "    <tr>\n",
       "      <th>0</th>\n",
       "      <td>85</td>\n",
       "      <td>92</td>\n",
       "      <td>45</td>\n",
       "      <td>27</td>\n",
       "      <td>31</td>\n",
       "    </tr>\n",
       "    <tr>\n",
       "      <th>1</th>\n",
       "      <td>85</td>\n",
       "      <td>64</td>\n",
       "      <td>59</td>\n",
       "      <td>32</td>\n",
       "      <td>23</td>\n",
       "    </tr>\n",
       "    <tr>\n",
       "      <th>2</th>\n",
       "      <td>86</td>\n",
       "      <td>54</td>\n",
       "      <td>33</td>\n",
       "      <td>16</td>\n",
       "      <td>54</td>\n",
       "    </tr>\n",
       "    <tr>\n",
       "      <th>3</th>\n",
       "      <td>91</td>\n",
       "      <td>78</td>\n",
       "      <td>34</td>\n",
       "      <td>24</td>\n",
       "      <td>36</td>\n",
       "    </tr>\n",
       "    <tr>\n",
       "      <th>4</th>\n",
       "      <td>87</td>\n",
       "      <td>70</td>\n",
       "      <td>12</td>\n",
       "      <td>28</td>\n",
       "      <td>10</td>\n",
       "    </tr>\n",
       "    <tr>\n",
       "      <th>...</th>\n",
       "      <td>...</td>\n",
       "      <td>...</td>\n",
       "      <td>...</td>\n",
       "      <td>...</td>\n",
       "      <td>...</td>\n",
       "    </tr>\n",
       "    <tr>\n",
       "      <th>340</th>\n",
       "      <td>99</td>\n",
       "      <td>75</td>\n",
       "      <td>26</td>\n",
       "      <td>24</td>\n",
       "      <td>41</td>\n",
       "    </tr>\n",
       "    <tr>\n",
       "      <th>341</th>\n",
       "      <td>96</td>\n",
       "      <td>69</td>\n",
       "      <td>53</td>\n",
       "      <td>43</td>\n",
       "      <td>203</td>\n",
       "    </tr>\n",
       "    <tr>\n",
       "      <th>342</th>\n",
       "      <td>98</td>\n",
       "      <td>77</td>\n",
       "      <td>55</td>\n",
       "      <td>35</td>\n",
       "      <td>89</td>\n",
       "    </tr>\n",
       "    <tr>\n",
       "      <th>343</th>\n",
       "      <td>91</td>\n",
       "      <td>68</td>\n",
       "      <td>27</td>\n",
       "      <td>26</td>\n",
       "      <td>14</td>\n",
       "    </tr>\n",
       "    <tr>\n",
       "      <th>344</th>\n",
       "      <td>98</td>\n",
       "      <td>99</td>\n",
       "      <td>57</td>\n",
       "      <td>45</td>\n",
       "      <td>65</td>\n",
       "    </tr>\n",
       "  </tbody>\n",
       "</table>\n",
       "<p>345 rows × 5 columns</p>\n",
       "</div>"
      ],
      "text/plain": [
       "     mcv  alkphos  sgpt  sgot  gammagt\n",
       "0     85       92    45    27       31\n",
       "1     85       64    59    32       23\n",
       "2     86       54    33    16       54\n",
       "3     91       78    34    24       36\n",
       "4     87       70    12    28       10\n",
       "..   ...      ...   ...   ...      ...\n",
       "340   99       75    26    24       41\n",
       "341   96       69    53    43      203\n",
       "342   98       77    55    35       89\n",
       "343   91       68    27    26       14\n",
       "344   98       99    57    45       65\n",
       "\n",
       "[345 rows x 5 columns]"
      ]
     },
     "execution_count": 19,
     "metadata": {},
     "output_type": "execute_result"
    }
   ],
   "source": [
    "df"
   ]
  },
  {
   "cell_type": "code",
   "execution_count": 45,
   "id": "7f61dc88",
   "metadata": {},
   "outputs": [
    {
     "data": {
      "text/html": [
       "<div>\n",
       "<style scoped>\n",
       "    .dataframe tbody tr th:only-of-type {\n",
       "        vertical-align: middle;\n",
       "    }\n",
       "\n",
       "    .dataframe tbody tr th {\n",
       "        vertical-align: top;\n",
       "    }\n",
       "\n",
       "    .dataframe thead th {\n",
       "        text-align: right;\n",
       "    }\n",
       "</style>\n",
       "<table border=\"1\" class=\"dataframe\">\n",
       "  <thead>\n",
       "    <tr style=\"text-align: right;\">\n",
       "      <th></th>\n",
       "      <th>mcv</th>\n",
       "      <th>alkphos</th>\n",
       "      <th>sgpt</th>\n",
       "      <th>sgot</th>\n",
       "      <th>gammagt</th>\n",
       "    </tr>\n",
       "  </thead>\n",
       "  <tbody>\n",
       "    <tr>\n",
       "      <th>0</th>\n",
       "      <td>85</td>\n",
       "      <td>92</td>\n",
       "      <td>45</td>\n",
       "      <td>27</td>\n",
       "      <td>31</td>\n",
       "    </tr>\n",
       "    <tr>\n",
       "      <th>1</th>\n",
       "      <td>85</td>\n",
       "      <td>64</td>\n",
       "      <td>59</td>\n",
       "      <td>32</td>\n",
       "      <td>23</td>\n",
       "    </tr>\n",
       "    <tr>\n",
       "      <th>2</th>\n",
       "      <td>86</td>\n",
       "      <td>54</td>\n",
       "      <td>33</td>\n",
       "      <td>16</td>\n",
       "      <td>54</td>\n",
       "    </tr>\n",
       "    <tr>\n",
       "      <th>3</th>\n",
       "      <td>91</td>\n",
       "      <td>78</td>\n",
       "      <td>34</td>\n",
       "      <td>24</td>\n",
       "      <td>36</td>\n",
       "    </tr>\n",
       "    <tr>\n",
       "      <th>4</th>\n",
       "      <td>87</td>\n",
       "      <td>70</td>\n",
       "      <td>12</td>\n",
       "      <td>28</td>\n",
       "      <td>10</td>\n",
       "    </tr>\n",
       "    <tr>\n",
       "      <th>5</th>\n",
       "      <td>98</td>\n",
       "      <td>55</td>\n",
       "      <td>13</td>\n",
       "      <td>17</td>\n",
       "      <td>17</td>\n",
       "    </tr>\n",
       "    <tr>\n",
       "      <th>6</th>\n",
       "      <td>88</td>\n",
       "      <td>62</td>\n",
       "      <td>20</td>\n",
       "      <td>17</td>\n",
       "      <td>9</td>\n",
       "    </tr>\n",
       "    <tr>\n",
       "      <th>7</th>\n",
       "      <td>88</td>\n",
       "      <td>67</td>\n",
       "      <td>21</td>\n",
       "      <td>11</td>\n",
       "      <td>11</td>\n",
       "    </tr>\n",
       "    <tr>\n",
       "      <th>8</th>\n",
       "      <td>92</td>\n",
       "      <td>54</td>\n",
       "      <td>22</td>\n",
       "      <td>20</td>\n",
       "      <td>7</td>\n",
       "    </tr>\n",
       "    <tr>\n",
       "      <th>9</th>\n",
       "      <td>90</td>\n",
       "      <td>60</td>\n",
       "      <td>25</td>\n",
       "      <td>19</td>\n",
       "      <td>5</td>\n",
       "    </tr>\n",
       "  </tbody>\n",
       "</table>\n",
       "</div>"
      ],
      "text/plain": [
       "   mcv  alkphos  sgpt  sgot  gammagt\n",
       "0   85       92    45    27       31\n",
       "1   85       64    59    32       23\n",
       "2   86       54    33    16       54\n",
       "3   91       78    34    24       36\n",
       "4   87       70    12    28       10\n",
       "5   98       55    13    17       17\n",
       "6   88       62    20    17        9\n",
       "7   88       67    21    11       11\n",
       "8   92       54    22    20        7\n",
       "9   90       60    25    19        5"
      ]
     },
     "execution_count": 45,
     "metadata": {},
     "output_type": "execute_result"
    }
   ],
   "source": [
    "df = df.iloc[:10]\n",
    "df"
   ]
  },
  {
   "cell_type": "code",
   "execution_count": 46,
   "id": "6eafc00c",
   "metadata": {},
   "outputs": [],
   "source": [
    "selected_features = df[['mcv', 'alkphos', 'sgpt','sgot','gammagt']]\n",
    "\n",
    "# Calculate the dissimilarity matrix using Euclidean distance\n",
    "dissimilarity_matrix = euclidean_distances(selected_features)"
   ]
  },
  {
   "cell_type": "code",
   "execution_count": 47,
   "id": "76a20e9e",
   "metadata": {},
   "outputs": [
    {
     "data": {
      "text/plain": [
       "array([[ 0.        , 32.69556545, 47.31807266, 19.67231557, 44.93328388,\n",
       "        53.46026562, 46.021734  , 43.19722213, 51.44900388, 46.78675026],\n",
       "       [32.69556545,  0.        , 44.65422712, 33.01514804, 49.33558553,\n",
       "        51.25426811, 44.21538194, 45.2437841 , 43.79497688, 41.10960958],\n",
       "       [47.31807266, 44.65422712,  0.        , 31.46426545, 52.70673581,\n",
       "        43.76071297, 47.57099957, 46.80811895, 48.80573737, 50.25932749],\n",
       "       [19.67231557, 33.01514804, 31.46426545,  0.        , 35.44009029,\n",
       "        37.80211634, 35.19943181, 33.06055051, 39.72404813, 37.30951621],\n",
       "       [44.93328388, 49.33558553, 52.70673581, 35.44009029,  0.        ,\n",
       "        22.737634  , 15.84297952, 19.5192213 , 21.30727575, 19.59591794],\n",
       "       [53.46026562, 51.25426811, 43.76071297, 37.80211634, 22.737634  ,\n",
       "         0.        , 16.18641406, 19.49358869, 15.06651917, 19.5192213 ],\n",
       "       [46.021734  , 44.21538194, 47.57099957, 35.19943181, 15.84297952,\n",
       "        16.18641406,  0.        ,  8.1240384 ,  9.8488578 ,  7.28010989],\n",
       "       [43.19722213, 45.2437841 , 46.80811895, 33.06055051, 19.5192213 ,\n",
       "        19.49358869,  8.1240384 ,  0.        , 16.82260384, 13.        ],\n",
       "       [51.44900388, 43.79497688, 48.80573737, 39.72404813, 21.30727575,\n",
       "        15.06651917,  9.8488578 , 16.82260384,  0.        ,  7.34846923],\n",
       "       [46.78675026, 41.10960958, 50.25932749, 37.30951621, 19.59591794,\n",
       "        19.5192213 ,  7.28010989, 13.        ,  7.34846923,  0.        ]])"
      ]
     },
     "execution_count": 47,
     "metadata": {},
     "output_type": "execute_result"
    }
   ],
   "source": [
    "dissimilarity_matrix"
   ]
  },
  {
   "cell_type": "code",
   "execution_count": 48,
   "id": "d774ef94",
   "metadata": {
    "scrolled": true
   },
   "outputs": [
    {
     "ename": "AttributeError",
     "evalue": "module networkx has no attribute relative_neighborhood_graph",
     "output_type": "error",
     "traceback": [
      "\u001b[1;31m---------------------------------------------------------------------------\u001b[0m",
      "\u001b[1;31mAttributeError\u001b[0m                            Traceback (most recent call last)",
      "\u001b[1;32m~\\AppData\\Local\\Temp/ipykernel_20076/4049868093.py\u001b[0m in \u001b[0;36m<module>\u001b[1;34m\u001b[0m\n\u001b[1;32m----> 1\u001b[1;33m \u001b[0mrng\u001b[0m \u001b[1;33m=\u001b[0m \u001b[0mnx\u001b[0m\u001b[1;33m.\u001b[0m\u001b[0mrelative_neighborhood_graph\u001b[0m\u001b[1;33m(\u001b[0m\u001b[0mdissimilarity_matrix\u001b[0m\u001b[1;33m,\u001b[0m \u001b[0malpha\u001b[0m\u001b[1;33m=\u001b[0m\u001b[1;36m0.5\u001b[0m\u001b[1;33m)\u001b[0m\u001b[1;33m\u001b[0m\u001b[1;33m\u001b[0m\u001b[0m\n\u001b[0m",
      "\u001b[1;32mc:\\users\\dell\\appdata\\local\\programs\\python\\python38\\lib\\site-packages\\networkx\\__init__.py\u001b[0m in \u001b[0;36m__getattr__\u001b[1;34m(name)\u001b[0m\n\u001b[0;32m     49\u001b[0m             \u001b[1;34m\"This message will be removed in NetworkX 3.0.\"\u001b[0m\u001b[1;33m\u001b[0m\u001b[1;33m\u001b[0m\u001b[0m\n\u001b[0;32m     50\u001b[0m         )\n\u001b[1;32m---> 51\u001b[1;33m     \u001b[1;32mraise\u001b[0m \u001b[0mAttributeError\u001b[0m\u001b[1;33m(\u001b[0m\u001b[1;34mf\"module {__name__} has no attribute {name}\"\u001b[0m\u001b[1;33m)\u001b[0m\u001b[1;33m\u001b[0m\u001b[1;33m\u001b[0m\u001b[0m\n\u001b[0m\u001b[0;32m     52\u001b[0m \u001b[1;33m\u001b[0m\u001b[0m\n\u001b[0;32m     53\u001b[0m \u001b[1;33m\u001b[0m\u001b[0m\n",
      "\u001b[1;31mAttributeError\u001b[0m: module networkx has no attribute relative_neighborhood_graph"
     ]
    }
   ],
   "source": [
    "rng = nx.relative_neighborhood_graph(dissimilarity_matrix, alpha=0.5)"
   ]
  },
  {
   "cell_type": "code",
   "execution_count": 49,
   "id": "aad9db7d",
   "metadata": {},
   "outputs": [],
   "source": [
    "def custom_distance(x, y):\n",
    "    return np.linalg.norm(x - y)\n",
    "\n",
    "# Initialize NearestNeighbors with the custom distance function\n",
    "nn = NearestNeighbors(n_neighbors=5, algorithm='brute', metric=custom_distance)\n",
    "nn.fit(dissimilarity_matrix)\n",
    "\n",
    "# Get the graph edges based on the k-Nearest Neighbors\n",
    "rng_edges = []\n",
    "for i, row in enumerate(dissimilarity_matrix):\n",
    "    neighbors = nn.kneighbors([row], return_distance=False)\n",
    "    for neighbor in neighbors[0]:\n",
    "        rng_edges.append((i, neighbor))\n",
    "\n",
    "# Create the graph using NetworkX\n",
    "rng = nx.Graph(rng_edges)"
   ]
  },
  {
   "cell_type": "code",
   "execution_count": 50,
   "id": "45c74de8",
   "metadata": {},
   "outputs": [
    {
     "data": {
      "image/png": "[encoded data removed]",
      "text/plain": [
       "<Figure size 432x288 with 1 Axes>"
      ]
     },
     "metadata": {},
     "output_type": "display_data"
    }
   ],
   "source": [
    "# Assuming 'rng' is the generated Relative Neighborhood Graph\n",
    "pos = nx.spring_layout(rng)  # Position nodes using a spring layout\n",
    "nx.draw(rng, pos, with_labels=True, node_size=50, node_color='skyblue', font_size=10)\n",
    "\n",
    "plt.title(\"Relative Neighborhood Graph (RNG)\")\n",
    "plt.show()\n"
   ]
  },
  {
   "cell_type": "code",
   "execution_count": 51,
   "id": "0e5ec948",
   "metadata": {},
   "outputs": [
    {
     "data": {
      "image/png": "[encoded data removed]",
      "text/plain": [
       "<Figure size 432x288 with 1 Axes>"
      ]
     },
     "metadata": {},
     "output_type": "display_data"
    }
   ],
   "source": [
    "# Assuming 'rng' is your graph\n",
    "pos = nx.random_layout(rng)\n",
    "\n",
    "# Draw the graph\n",
    "nx.draw(rng, pos=pos, with_labels=True, node_size=50, node_color='skyblue', font_size=10)\n",
    "\n",
    "plt.title(\"Relative Neighborhood Graph (RNG) with Planar Layout\")\n",
    "plt.show()"
   ]
  },
  {
   "cell_type": "code",
   "execution_count": 52,
   "id": "492b7775",
   "metadata": {},
   "outputs": [
    {
     "data": {
      "text/plain": [
       "NodeView((0, 3, 1, 2, 4, 5, 7, 6, 9, 8))"
      ]
     },
     "execution_count": 52,
     "metadata": {},
     "output_type": "execute_result"
    }
   ],
   "source": [
    "rng.nodes()"
   ]
  },
  {
   "cell_type": "code",
   "execution_count": null,
   "id": "7529e3b6",
   "metadata": {},
   "outputs": [],
   "source": []
  }
 ],
 "metadata": {
  "kernelspec": {
   "display_name": "Python 3 (ipykernel)",
   "language": "python",
   "name": "python3"
  },
  "language_info": {
   "codemirror_mode": {
    "name": "ipython",
    "version": 3
   },
   "file_extension": ".py",
   "mimetype": "text/x-python",
   "name": "python",
   "nbconvert_exporter": "python",
   "pygments_lexer": "ipython3",
   "version": "3.8.5"
  }
 },
 "nbformat": 4,
 "nbformat_minor": 5
}
